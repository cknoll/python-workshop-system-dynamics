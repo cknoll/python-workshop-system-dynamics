{
 "cells": [
  {
   "cell_type": "markdown",
   "metadata": {},
   "source": [
    "Dieses Dokument ist ein sogenanntes \"Jupyter Notebook\". Dieses Format kann Quelltexte, Programmausgaben (Text und Bilder) und *formatierte* Dokumentation in einer Datei zusammenfassen und eigenet sich deshlab besonders für Forschung und Lehre.\n",
    "\n",
    "---\n",
    "\n"
   ]
  },
  {
   "cell_type": "code",
   "execution_count": 1,
   "metadata": {},
   "outputs": [],
   "source": [
    "import numpy as np\n",
    "import sympy as sp\n",
    "from sympy.interactive import printing\n",
    "printing.init_printing()\n",
    "import matplotlib.pyplot as plt\n",
    "\n",
    "# Diese Erweiterung erlaubt den \"magischen\" Kommentar `##:`\n",
    "%load_ext ipydex.displaytools\n",
    "%matplotlib inline"
   ]
  },
  {
   "cell_type": "markdown",
   "metadata": {},
   "source": [
    "# Datenvisualisierung"
   ]
  },
  {
   "cell_type": "code",
   "execution_count": 2,
   "metadata": {},
   "outputs": [
    {
     "data": {
      "text/plain": [
       "[<matplotlib.lines.Line2D at 0x7fcf73975e80>]"
      ]
     },
     "execution_count": 2,
     "metadata": {},
     "output_type": "execute_result"
    },
    {
     "data": {
      "image/png": "[encoded data removed]",
      "text/plain": [
       "<Figure size 432x288 with 1 Axes>"
      ]
     },
     "metadata": {},
     "output_type": "display_data"
    }
   ],
   "source": [
    "# Daten erzeugen\n",
    "x = np.linspace(-3, 10, 50)\n",
    "y = x**2\n",
    "\n",
    "# Daten plotten (blau, durchgezogene Linie, und Punktmarkierung)\n",
    "plt.plot(x, y, \"b.-\")"
   ]
  },
  {
   "cell_type": "code",
   "execution_count": 3,
   "metadata": {},
   "outputs": [
    {
     "data": {
      "image/png": "[encoded data removed]",
      "text/plain": [
       "<Figure size 432x288 with 1 Axes>"
      ]
     },
     "metadata": {},
     "output_type": "display_data"
    }
   ],
   "source": [
    "# Weitere Daten ins gleiche Diagramm plotten\n",
    "\n",
    "# Neue daten Erzeugen\n",
    "y2 = 10*x - x**2  + 30\n",
    "\n",
    "# mit gepunkteten und gestrichtelten Linien\n",
    "plt.plot(x, y, \"b--\")\n",
    "plt.plot(x, y2, \"g:\")\n",
    "plt.grid(1)\n"
   ]
  },
  {
   "cell_type": "markdown",
   "metadata": {},
   "source": [
    "# Numerisches Rechnen (lineare Algebra)\n",
    "\n",
    "Hier wird das Modul `numpy` benuzt. Siehe oben: `import numpy as np`."
   ]
  },
  {
   "cell_type": "code",
   "execution_count": 4,
   "metadata": {},
   "outputs": [
    {
     "data": {
      "text/plain": [
       "M := array([[1., 2., 3.],\n",
       "            [4., 5., 6.],\n",
       "            [7., 8., 9.]])"
      ]
     },
     "metadata": {},
     "output_type": "display_data"
    },
    {
     "name": "stdout",
     "output_type": "stream",
     "text": [
      "---\n"
     ]
    },
    {
     "data": {
      "text/plain": [
       "M1 := array([[-10., -20., -30.],\n",
       "             [-40., -50., -60.],\n",
       "             [-70., -80., -90.]])"
      ]
     },
     "metadata": {},
     "output_type": "display_data"
    },
    {
     "name": "stdout",
     "output_type": "stream",
     "text": [
      "---\n"
     ]
    },
    {
     "data": {
      "text/plain": [
       "M2 := array([[21., 22., 23.],\n",
       "             [24., 25., 26.],\n",
       "             [27., 28., 29.]])"
      ]
     },
     "metadata": {},
     "output_type": "display_data"
    },
    {
     "name": "stdout",
     "output_type": "stream",
     "text": [
      "---\n"
     ]
    },
    {
     "data": {
      "text/plain": [
       "M3 := array([[ 1.,  4.,  9.],\n",
       "             [16., 25., 36.],\n",
       "             [49., 64., 81.]])"
      ]
     },
     "metadata": {},
     "output_type": "display_data"
    },
    {
     "name": "stdout",
     "output_type": "stream",
     "text": [
      "---\n"
     ]
    },
    {
     "data": {
      "image/png": "[encoded data removed]",
      "text/latex": [
       "det_M := $\\displaystyle 0.0$"
      ],
      "text/plain": [
       "det_M := 0.0"
      ]
     },
     "metadata": {},
     "output_type": "display_data"
    },
    {
     "name": "stdout",
     "output_type": "stream",
     "text": [
      "---\n"
     ]
    }
   ],
   "source": [
    "# Definieren eines 2d-Arrays (3x3-Matrix)\n",
    "M = np.array([[1, 2, 3], [4, 5, 6], [7, 8, 9.]]) ##:\n",
    "\n",
    "\n",
    "# Elementweise Rechnungen\n",
    "\n",
    "M1 = M * -10 ##:\n",
    "M2 = M + 20 ##:\n",
    "M3 = M**2 ##:\n",
    "\n",
    "\n",
    "# Determinante\n",
    "\n",
    "det_M = np.linalg.det(M) ##:"
   ]
  },
  {
   "cell_type": "code",
   "execution_count": 5,
   "metadata": {},
   "outputs": [
    {
     "data": {
      "image/png": "[encoded data removed]",
      "text/latex": [
       "(M[0, 0]) := $\\displaystyle 1.0$"
      ],
      "text/plain": [
       "(M[0, 0]) := 1.0"
      ]
     },
     "metadata": {},
     "output_type": "display_data"
    },
    {
     "name": "stdout",
     "output_type": "stream",
     "text": [
      "---\n"
     ]
    },
    {
     "data": {
      "image/png": "[encoded data removed]",
      "text/latex": [
       "(M[1, 2]) := $\\displaystyle 6.0$"
      ],
      "text/plain": [
       "(M[1, 2]) := 6.0"
      ]
     },
     "metadata": {},
     "output_type": "display_data"
    },
    {
     "name": "stdout",
     "output_type": "stream",
     "text": [
      "---\n"
     ]
    },
    {
     "data": {
      "text/plain": [
       "(M) := array([[ 1.   ,  2.   ,  3.   ],\n",
       "              [ 4.   ,  5.   , -5.123],\n",
       "              [ 7.   ,  8.   ,  9.   ]])"
      ]
     },
     "metadata": {},
     "output_type": "display_data"
    },
    {
     "name": "stdout",
     "output_type": "stream",
     "text": [
      "---\n"
     ]
    }
   ],
   "source": [
    "# Ein bestimmtes Element adressieren (Index-Zählung beginnt bei 0)\n",
    "\n",
    "M[0, 0] ##:\n",
    "M[1, 2] ##:\n",
    "\n",
    "# bestimmtes Element verändern:\n",
    "\n",
    "M[1, 2] = -5.123\n",
    "\n",
    "M ##:"
   ]
  },
  {
   "cell_type": "code",
   "execution_count": 6,
   "metadata": {},
   "outputs": [
    {
     "data": {
      "text/plain": [
       "(M[0:2, 0:1]) := array([[1.],\n",
       "                        [4.]])"
      ]
     },
     "metadata": {},
     "output_type": "display_data"
    },
    {
     "name": "stdout",
     "output_type": "stream",
     "text": [
      "---\n"
     ]
    },
    {
     "data": {
      "text/plain": [
       "(M) := array([[ 0.1  ,  2.   ,  3.   ],\n",
       "              [ 0.4  ,  5.   , -5.123],\n",
       "              [ 0.7  ,  8.   ,  9.   ]])"
      ]
     },
     "metadata": {},
     "output_type": "display_data"
    },
    {
     "name": "stdout",
     "output_type": "stream",
     "text": [
      "---\n"
     ]
    },
    {
     "data": {
      "text/plain": [
       "Q := array([[ 0.1  ,  0.4  ,  0.7  ],\n",
       "            [ 2.   ,  5.   ,  8.   ],\n",
       "            [ 3.   , -5.123,  9.   ]])"
      ]
     },
     "metadata": {},
     "output_type": "display_data"
    },
    {
     "name": "stdout",
     "output_type": "stream",
     "text": [
      "---\n"
     ]
    }
   ],
   "source": [
    "# Mehrere Elemente adressieren (\"indizieren\")\n",
    "\n",
    "# oberen zwei Elemente der \"ersten Spalete\" (Index: 0)\n",
    "M[0:2, 0:1] ##:\n",
    "\n",
    "\n",
    "# erste Spalte (Index 0) mit -1 multiplizieren\n",
    "M[:, 0]*=0.1\n",
    "\n",
    "M ##:\n",
    "\n",
    "# Matrix transponieren\n",
    "\n",
    "Q = M.T ##:\n"
   ]
  },
  {
   "cell_type": "code",
   "execution_count": 7,
   "metadata": {},
   "outputs": [
    {
     "data": {
      "text/plain": [
       "(eigvals) := array([-0.0779745 +0.j        ,  7.08898725+5.94439065j,  7.08898725-5.94439065j])"
      ]
     },
     "metadata": {},
     "output_type": "display_data"
    },
    {
     "name": "stdout",
     "output_type": "stream",
     "text": [
      "---\n"
     ]
    },
    {
     "data": {
      "text/plain": [
       "(eigvects) := array([[ 0.99657488+0.j        , -0.23614565+0.03815468j, -0.23614565-0.03815468j],\n",
       "                     [-0.08259563+0.j        ,  0.20236457-0.56853971j,  0.20236457+0.56853971j],\n",
       "                     [-0.00405789+0.j        , -0.76065145+0.j        , -0.76065145-0.j        ]])"
      ]
     },
     "metadata": {},
     "output_type": "display_data"
    },
    {
     "name": "stdout",
     "output_type": "stream",
     "text": [
      "---\n"
     ]
    }
   ],
   "source": [
    "# Eigenwerte und Eigenvektoren bestimmen\n",
    "\n",
    "np.set_printoptions(linewidth=270, precision=8)\n",
    "eigvals, eigvects = np.linalg.eig(M)\n",
    "\n",
    "eigvals ##:\n",
    "eigvects ##:"
   ]
  },
  {
   "cell_type": "markdown",
   "metadata": {},
   "source": [
    "**Beobachtung**: Es resultieren 1 reeller Eigenwert und zwei komplexe (d.h. ein konjugiert komplexes Paar).\n",
    "\n",
    "Nebenbemerkung zu komplexen Zahlen: Die \"imaginäre Einheit\" $i$ bzw. in der Elektrotechnik meist $j$ ist definiert über die Gleichung\n",
    "\n",
    "$$\n",
    "j^2 = j\\cdot j= -1.\n",
    "$$\n",
    "\n",
    "Eine komplexe Zahl $z$ ist die Summe $z = a + b \\cdot j$ mit $a, b \\in \\mathbb{R}$ (reelle Zahlen). In Python schreibt man z.B. `z = -4 + 3j`."
   ]
  },
  {
   "cell_type": "code",
   "execution_count": 8,
   "metadata": {},
   "outputs": [
    {
     "data": {
      "text/plain": [
       "v0 := array([ 0.99657488+0.j, -0.08259563+0.j, -0.00405789+0.j])"
      ]
     },
     "metadata": {},
     "output_type": "display_data"
    },
    {
     "name": "stdout",
     "output_type": "stream",
     "text": [
      "---\n"
     ]
    }
   ],
   "source": [
    "# 1. Wert\n",
    "w0 = eigvals[0] ##\n",
    "\n",
    "# 1. Spalte (-> wird ein 1d-array)\n",
    "v0 = eigvects[:, 0] ##:"
   ]
  },
  {
   "cell_type": "code",
   "execution_count": 9,
   "metadata": {},
   "outputs": [
    {
     "data": {
      "text/plain": [
       "(M@v0) := array([-0.07770743+0.j,  0.00644035+0.j,  0.00031641+0.j])"
      ]
     },
     "metadata": {},
     "output_type": "display_data"
    },
    {
     "name": "stdout",
     "output_type": "stream",
     "text": [
      "---\n"
     ]
    },
    {
     "data": {
      "text/plain": [
       "(np.dot(M, v0)) := array([-0.07770743+0.j,  0.00644035+0.j,  0.00031641+0.j])"
      ]
     },
     "metadata": {},
     "output_type": "display_data"
    },
    {
     "name": "stdout",
     "output_type": "stream",
     "text": [
      "---\n"
     ]
    }
   ],
   "source": [
    "# Matrix-Vektor-Multiplikation:\n",
    "\n",
    "M@v0 ##:\n",
    "\n",
    "# Alternative Notation (rückwärtskompatibel)\n",
    "\n",
    "np.dot(M, v0) ##:\n"
   ]
  },
  {
   "cell_type": "code",
   "execution_count": 10,
   "metadata": {},
   "outputs": [
    {
     "data": {
      "text/plain": [
       "(w0*v0) := array([-0.07770743+0.j,  0.00644035-0.j,  0.00031641-0.j])"
      ]
     },
     "metadata": {},
     "output_type": "display_data"
    },
    {
     "name": "stdout",
     "output_type": "stream",
     "text": [
      "---\n"
     ]
    },
    {
     "data": {
      "text/plain": [
       "diff := array([-5.55111512e-17+0.j, -7.89299182e-17-0.j, -1.62034015e-16-0.j])"
      ]
     },
     "metadata": {},
     "output_type": "display_data"
    },
    {
     "name": "stdout",
     "output_type": "stream",
     "text": [
      "---\n"
     ]
    }
   ],
   "source": [
    "# Prüfen, ob w0 bzw. v0 wirklich Eigenwert bzw. Eigenvektor ist von M ist\n",
    "\n",
    "w0*v0 ##:\n",
    "\n",
    "# Es kommt das gleiche Ergebnis wie oben raus (bis auf \"numerisches Rauschen\"):\n",
    "diff = w0*v0 - M@v0 ##:\n"
   ]
  },
  {
   "cell_type": "code",
   "execution_count": 11,
   "metadata": {},
   "outputs": [
    {
     "data": {
      "text/plain": [
       "(eigvals) := array([-0.0779745 +0.j        ,  7.08898725+5.94439065j,  7.08898725-5.94439065j])"
      ]
     },
     "metadata": {},
     "output_type": "display_data"
    },
    {
     "name": "stdout",
     "output_type": "stream",
     "text": [
      "---\n"
     ]
    },
    {
     "data": {
      "text/plain": [
       "(np.real(eigvals)) := array([-0.0779745 ,  7.08898725,  7.08898725])"
      ]
     },
     "metadata": {},
     "output_type": "display_data"
    },
    {
     "name": "stdout",
     "output_type": "stream",
     "text": [
      "---\n"
     ]
    },
    {
     "data": {
      "text/plain": [
       "(np.imag(eigvals)) := array([ 0.        ,  5.94439065, -5.94439065])"
      ]
     },
     "metadata": {},
     "output_type": "display_data"
    },
    {
     "name": "stdout",
     "output_type": "stream",
     "text": [
      "---\n"
     ]
    }
   ],
   "source": [
    "# Aufspalten in Real- und Imaginärteil\n",
    "\n",
    "eigvals ##:\n",
    "\n",
    "np.real(eigvals) ##:\n",
    "np.imag(eigvals) ##:"
   ]
  },
  {
   "cell_type": "markdown",
   "metadata": {},
   "source": [
    "# Symbolisches Rechnen\n",
    "\n",
    "Hier wird das Modul `sympy` benuzt. Siehe oben: `import sympy as sp`."
   ]
  },
  {
   "cell_type": "code",
   "execution_count": 12,
   "metadata": {},
   "outputs": [
    {
     "data": {
      "image/png": "[encoded data removed]",
      "text/latex": [
       "f := $\\displaystyle - 7 a x_{1}^{2} + x_{1}^{3} + 2 x_{1} + 4$"
      ],
      "text/plain": [
       "f :=         2     3           \n",
       "- 7⋅a⋅x₁  + x₁  + 2⋅x₁ + 4"
      ]
     },
     "metadata": {},
     "output_type": "display_data"
    },
    {
     "name": "stdout",
     "output_type": "stream",
     "text": [
      "---\n"
     ]
    }
   ],
   "source": [
    "x1, x2, a = sp.symbols(\"x1, x2, a\")\n",
    "\n",
    "f = x1**3 - 7*a*x1**2 + 2*x1 + 4 ##:"
   ]
  },
  {
   "cell_type": "code",
   "execution_count": 13,
   "metadata": {},
   "outputs": [
    {
     "data": {
      "image/png": "[encoded data removed]",
      "text/latex": [
       "$\\displaystyle - 14 a x_{1} + 3 x_{1}^{2} + 2$"
      ],
      "text/plain": [
       "               2    \n",
       "-14⋅a⋅x₁ + 3⋅x₁  + 2"
      ]
     },
     "execution_count": 13,
     "metadata": {},
     "output_type": "execute_result"
    }
   ],
   "source": [
    "# 1. Ableitung\n",
    "\n",
    "f.diff(x1)"
   ]
  },
  {
   "cell_type": "code",
   "execution_count": 14,
   "metadata": {},
   "outputs": [
    {
     "data": {
      "image/png": "[encoded data removed]",
      "text/latex": [
       "df1 := $\\displaystyle 2 \\left(- 7 a + 3 x_{1}\\right)$"
      ],
      "text/plain": [
       "df1 := 2⋅(-7⋅a + 3⋅x₁)"
      ]
     },
     "metadata": {},
     "output_type": "display_data"
    },
    {
     "name": "stdout",
     "output_type": "stream",
     "text": [
      "---\n"
     ]
    },
    {
     "data": {
      "image/png": "[encoded data removed]",
      "text/latex": [
       "df2 := $\\displaystyle - 14 a + 6 x_{1}$"
      ],
      "text/plain": [
       "df2 := -14⋅a + 6⋅x₁"
      ]
     },
     "metadata": {},
     "output_type": "display_data"
    },
    {
     "name": "stdout",
     "output_type": "stream",
     "text": [
      "---\n"
     ]
    }
   ],
   "source": [
    "# 2. Ableitung\n",
    "df1 = f.diff(x1, 2) ##:\n",
    "\n",
    "# ... ausmultipliziert:\n",
    "df2 = f.diff(x1, 2).expand() ##:"
   ]
  },
  {
   "cell_type": "code",
   "execution_count": 15,
   "metadata": {},
   "outputs": [
    {
     "data": {
      "image/png": "[encoded data removed]",
      "text/latex": [
       "asol := $\\displaystyle \\left[ \\left\\{ x_{1} : \\frac{7 a}{3}\\right\\}\\right]$"
      ],
      "text/plain": [
       "asol := ⎡⎧    7⋅a⎫⎤\n",
       "⎢⎨x₁: ───⎬⎥\n",
       "⎣⎩     3 ⎭⎦"
      ]
     },
     "metadata": {},
     "output_type": "display_data"
    },
    {
     "name": "stdout",
     "output_type": "stream",
     "text": [
      "---\n"
     ]
    }
   ],
   "source": [
    "asol  = sp.solve(df2, x1, dict=True) ##:"
   ]
  }
 ],
 "metadata": {
  "kernelspec": {
   "display_name": "Python 3",
   "language": "python",
   "name": "python3"
  },
  "language_info": {
   "codemirror_mode": {
    "name": "ipython",
    "version": 3
   },
   "file_extension": ".py",
   "mimetype": "text/x-python",
   "name": "python",
   "nbconvert_exporter": "python",
   "pygments_lexer": "ipython3",
   "version": "3.6.8"
  }
 },
 "nbformat": 4,
 "nbformat_minor": 2
}
