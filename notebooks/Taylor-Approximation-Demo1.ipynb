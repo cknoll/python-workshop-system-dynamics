{
 "cells": [
  {
   "cell_type": "code",
   "execution_count": 1,
   "metadata": {},
   "outputs": [],
   "source": [
    "%load_ext ipydex.displaytools\n",
    "\n",
    "import numpy as np\n",
    "import matplotlib.pyplot as plt\n",
    "import sympy as sp\n",
    "from sympy.interactive import printing\n",
    "printing.init_printing()\n",
    "from sympy import sin, cos, exp\n",
    "import symbtools as st\n",
    "from ipywidgets import interact, interactive, fixed, interact_manual"
   ]
  },
  {
   "cell_type": "markdown",
   "metadata": {},
   "source": [
    "# Aufgabe: Visualisierung von Taylor-Polynomen verschiedener Ordnung\n",
    "\n",
    "\n",
    "\n",
    "<div style=\"font-size:150%;\">\n",
    "\n",
    "Geg:\n",
    "\n",
    "- $f(x) = \\sin(ax)$\n",
    "\n",
    "\n",
    "Ges:\n",
    "\n",
    "- grafische Darstellung von $\\hat f_k(x; x_0) := \\sum_{i=0}^k\\frac{1}{k!}\\left.\\frac{d^k}{dx^k} f(x)\\right|_{x=x_0}$\n",
    "    \n",
    "</div>"
   ]
  },
  {
   "cell_type": "code",
   "execution_count": 2,
   "metadata": {},
   "outputs": [
    {
     "data": {
      "text/plain": [
       "[<matplotlib.lines.Line2D at 0x7f5f74b9a3c8>]"
      ]
     },
     "execution_count": 2,
     "metadata": {},
     "output_type": "execute_result"
    },
    {
     "data": {
      "image/png": "[encoded data removed]",
      "text/plain": [
       "<Figure size 432x288 with 1 Axes>"
      ]
     },
     "metadata": {},
     "output_type": "display_data"
    }
   ],
   "source": [
    "x, x0, a = sp.symbols(\"x, x0, a\")\n",
    "\n",
    "f1 = sin(a*x)# *f1\n",
    "func1 = st.expr_to_func((a, x), f1)\n",
    "\n",
    "\n",
    "xx_values = np.linspace(-10, 10, 300)\n",
    "\n",
    "a1 = 2\n",
    "plt.plot(xx_values, func1(a1, xx_values))"
   ]
  },
  {
   "cell_type": "code",
   "execution_count": 3,
   "metadata": {},
   "outputs": [],
   "source": [
    "# Vorabbrechnung der Taylor-Approximationen\n",
    "\n",
    "taylor_expressions = []\n",
    "taylor_funcs = []\n",
    "\n",
    "Nmax = 12\n",
    "\n",
    "for i in range(Nmax + 1):\n",
    "    # taylor_expr = sp.series(f2, x, x0, n=i)\n",
    "    taylor_expr = st.multi_taylor(f1, (x,), (x0, ), order=i)\n",
    "    taylor_expressions.append(taylor_expr)\n",
    "    taylor_funcs.append(st.expr_to_func((a, x, x0), taylor_expr.removeO()))"
   ]
  },
  {
   "cell_type": "code",
   "execution_count": 4,
   "metadata": {},
   "outputs": [
    {
     "data": {
      "image/png": "[encoded data removed]",
      "text/latex": [
       "$\\displaystyle \\left( a, \\  x\\right)$"
      ],
      "text/plain": [
       "(a, x)"
      ]
     },
     "execution_count": 4,
     "metadata": {},
     "output_type": "execute_result"
    }
   ],
   "source": [
    "a, x"
   ]
  },
  {
   "cell_type": "code",
   "execution_count": 5,
   "metadata": {},
   "outputs": [
    {
     "data": {
      "application/vnd.jupyter.widget-view+json": {
       "model_id": "ad8018a2f7bd4493a252978dbeef150c",
       "version_major": 2,
       "version_minor": 0
      },
      "text/html": [
       "<p>Failed to display Jupyter Widget of type <code>interactive</code>.</p>\n",
       "<p>\n",
       "  If you're reading this message in the Jupyter Notebook or JupyterLab Notebook, it may mean\n",
       "  that the widgets JavaScript is still loading. If this message persists, it\n",
       "  likely means that the widgets JavaScript library is either not installed or\n",
       "  not enabled. See the <a href=\"https://ipywidgets.readthedocs.io/en/stable/user_install.html\">Jupyter\n",
       "  Widgets Documentation</a> for setup instructions.\n",
       "</p>\n",
       "<p>\n",
       "  If you're reading this message in another frontend (for example, a static\n",
       "  rendering on GitHub or <a href=\"https://nbviewer.jupyter.org/\">NBViewer</a>),\n",
       "  it may mean that your frontend doesn't currently support widgets.\n",
       "</p>\n"
      ],
      "text/plain": [
       "interactive(children=(IntSlider(value=6, description='n', max=12), FloatSlider(value=0.0, description='x01', max=5.0, min=-5.0, step=0.2), FloatSlider(value=0.5, description='a1', max=1.0, step=0.01), Output()), _dom_classes=('widget-interact',))"
      ]
     },
     "metadata": {},
     "output_type": "display_data"
    }
   ],
   "source": [
    "@interact(n=(0, Nmax, 1), x01=(-5, 5, 0.2), a1=(0.0, 1, 0.01))\n",
    "def plot_func(n, x01, a1):\n",
    "    plt.figure(figsize=(12, 6))\n",
    "    plt.plot(xx_values, func1(a1, xx_values), \"b-\", lw=3)\n",
    "    plt.plot(xx_values, taylor_funcs[n](a1, xx_values, x01), \"r\")\n",
    "    plt.plot([x01], func1(a1, x01), \"ro\")\n",
    "    plt.axis([-10, 10, -1.3, 1.3])\n",
    "    # approx = taylor_expressions[n].subs(x0, x01) ##:"
   ]
  },
  {
   "cell_type": "code",
   "execution_count": null,
   "metadata": {},
   "outputs": [],
   "source": []
  },
  {
   "cell_type": "code",
   "execution_count": null,
   "metadata": {},
   "outputs": [],
   "source": []
  },
  {
   "cell_type": "markdown",
   "metadata": {},
   "source": [
    "\n",
    "<br><br><br><br><br><br><br><br><br><br><br><br><br>\n",
    "\n",
    "<br><br><br><br><br><br><br><br><br><br><br><br><br>\n"
   ]
  },
  {
   "cell_type": "code",
   "execution_count": 7,
   "metadata": {},
   "outputs": [
    {
     "data": {
      "image/png": "[encoded data removed]",
      "text/latex": [
       "F := $\\displaystyle \\frac{3 x^{2}}{2}$"
      ],
      "text/plain": [
       "F :=    2\n",
       "3⋅x \n",
       "────\n",
       " 2  "
      ]
     },
     "metadata": {},
     "output_type": "display_data"
    },
    {
     "name": "stdout",
     "output_type": "stream",
     "text": [
      "---\n"
     ]
    },
    {
     "data": {
      "image/png": "[encoded data removed]",
      "text/latex": [
       "$\\displaystyle \\frac{3}{2}$"
      ],
      "text/plain": [
       "3/2"
      ]
     },
     "execution_count": 7,
     "metadata": {},
     "output_type": "execute_result"
    }
   ],
   "source": [
    "F = sp.integrate(3*x, x ) ##:\n",
    "\n",
    "F.subs(x, 1) - F.subs(x, 0)\n"
   ]
  },
  {
   "cell_type": "code",
   "execution_count": null,
   "metadata": {},
   "outputs": [],
   "source": []
  }
 ],
 "metadata": {
  "kernelspec": {
   "display_name": "Python 3",
   "language": "python",
   "name": "python3"
  },
  "language_info": {
   "codemirror_mode": {
    "name": "ipython",
    "version": 3
   },
   "file_extension": ".py",
   "mimetype": "text/x-python",
   "name": "python",
   "nbconvert_exporter": "python",
   "pygments_lexer": "ipython3",
   "version": "3.6.3"
  }
 },
 "nbformat": 4,
 "nbformat_minor": 2
}
